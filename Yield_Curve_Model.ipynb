{
  "nbformat": 4,
  "nbformat_minor": 0,
  "metadata": {
    "colab": {
      "name": "Yield Curve Model.ipynb",
      "provenance": [],
      "collapsed_sections": [],
      "authorship_tag": "ABX9TyPvf/XifcU5qWh/tzL3CXwP",
      "include_colab_link": true
    },
    "kernelspec": {
      "name": "python3",
      "display_name": "Python 3"
    },
    "language_info": {
      "name": "python"
    }
  },
  "cells": [
    {
      "cell_type": "markdown",
      "metadata": {
        "id": "view-in-github",
        "colab_type": "text"
      },
      "source": [
        "<a href=\"https://colab.research.google.com/github/rachdancer/FI-Code/blob/main/Yield_Curve_Model.ipynb\" target=\"_parent\"><img src=\"https://colab.research.google.com/assets/colab-badge.svg\" alt=\"Open In Colab\"/></a>"
      ]
    },
    {
      "cell_type": "code",
      "metadata": {
        "colab": {
          "base_uri": "https://localhost:8080/",
          "height": 0
        },
        "id": "sA398uMmlqdT",
        "outputId": "bd24bc57-be42-466c-950a-ec25916118f9"
      },
      "source": [
        "import math\n",
        "import numpy as np\n",
        "import statsmodels.api as sm\n"
      ],
      "execution_count": 2,
      "outputs": [
        {
          "output_type": "stream",
          "text": [
            "/usr/local/lib/python3.7/dist-packages/statsmodels/tools/_testing.py:19: FutureWarning: pandas.util.testing is deprecated. Use the functions in the public API at pandas.testing instead.\n",
            "  import pandas.util.testing as tm\n"
          ],
          "name": "stderr"
        }
      ]
    },
    {
      "cell_type": "code",
      "metadata": {
        "colab": {
          "base_uri": "https://localhost:8080/",
          "height": 0
        },
        "id": "Sj-Q2MXdl8T4",
        "outputId": "7f942d07-a6bd-47e1-bff5-d359cc14a4d1"
      },
      "source": [
        "pip install nelson_siegel_svensson"
      ],
      "execution_count": 2,
      "outputs": [
        {
          "output_type": "stream",
          "text": [
            "Collecting nelson_siegel_svensson\n",
            "  Downloading https://files.pythonhosted.org/packages/5b/4a/56beecc0a9ce94f97789a93442f7925c92dc5ed54352f5d97e461cee51c1/nelson_siegel_svensson-0.4.2-py2.py3-none-any.whl\n",
            "Requirement already satisfied: Click>=6.0 in /usr/local/lib/python3.7/dist-packages (from nelson_siegel_svensson) (7.1.2)\n",
            "Requirement already satisfied: numpy>=1.14 in /usr/local/lib/python3.7/dist-packages (from nelson_siegel_svensson) (1.19.5)\n",
            "Requirement already satisfied: scipy>=1.2 in /usr/local/lib/python3.7/dist-packages (from nelson_siegel_svensson) (1.4.1)\n",
            "Requirement already satisfied: matplotlib>=3.0 in /usr/local/lib/python3.7/dist-packages (from nelson_siegel_svensson) (3.2.2)\n",
            "Requirement already satisfied: cycler>=0.10 in /usr/local/lib/python3.7/dist-packages (from matplotlib>=3.0->nelson_siegel_svensson) (0.10.0)\n",
            "Requirement already satisfied: python-dateutil>=2.1 in /usr/local/lib/python3.7/dist-packages (from matplotlib>=3.0->nelson_siegel_svensson) (2.8.1)\n",
            "Requirement already satisfied: pyparsing!=2.0.4,!=2.1.2,!=2.1.6,>=2.0.1 in /usr/local/lib/python3.7/dist-packages (from matplotlib>=3.0->nelson_siegel_svensson) (2.4.7)\n",
            "Requirement already satisfied: kiwisolver>=1.0.1 in /usr/local/lib/python3.7/dist-packages (from matplotlib>=3.0->nelson_siegel_svensson) (1.3.1)\n",
            "Requirement already satisfied: six in /usr/local/lib/python3.7/dist-packages (from cycler>=0.10->matplotlib>=3.0->nelson_siegel_svensson) (1.15.0)\n",
            "Installing collected packages: nelson-siegel-svensson\n",
            "Successfully installed nelson-siegel-svensson-0.4.2\n"
          ],
          "name": "stdout"
        }
      ]
    },
    {
      "cell_type": "code",
      "metadata": {
        "colab": {
          "base_uri": "https://localhost:8080/",
          "height": 426
        },
        "id": "QVDHiCuSiVau",
        "outputId": "7a191bd7-038d-448e-8767-8c3ae9d8e7ef"
      },
      "source": [
        "# note that tenor,yield rates [[],[],[]...] are not incorporated \n",
        "\n",
        "class NSCurveFamily:\n",
        "    '''\n",
        "    The class fit data into Nelson Siegel and Nelson Siegel Svensson Models.\n",
        "    Parsimonious Modeling of Yield Curves\n",
        "    '''\n",
        "        \n",
        "    def __init__(self, useNSS=False):\n",
        "        ''' initialised with True if use Nelson Siegel Svensson Model\n",
        "        initialised with False if use Nelson Siegel Model\n",
        "        '''\n",
        "        self.useNSS = useNSS\n",
        "        self.HasEstParam = False\n",
        "\n",
        "    def fitNSModel(self, tau, t_seq, zr_seq):\n",
        "        t_to_tau = [ t/tau  for t in t_seq]\n",
        "        xterm1 = [ (1.0-math.exp(-tt))/tt for tt in t_to_tau]\n",
        "        xterm2 = [ (1.0-math.exp(-tt))/tt-math.exp(-tt) for tt in t_to_tau]\n",
        "        x = np.array([xterm1, xterm2]).T\n",
        "        x = sm.add_constant(x)\n",
        "        wt=np.append(t_seq[0],np.diff(t_seq))\n",
        "        #Use the weighted OLS with the weight proportional to the tenor between data points\n",
        "        #This intends to give equal wt to the full yield curve rather than overweight the portion with a lot of samples        \n",
        "        res = sm.WLS(zr_seq, x, wt).fit()\n",
        "        return (res.params, res.rsquared)    \n",
        "    \n",
        "    def fitNSSModel(self, tau1, tau2, t_seq, zr_seq):\n",
        "        t_to_tau1 = [ t/tau1  for t in t_seq]\n",
        "        t_to_tau2 = [ t/tau2  for t in t_seq]\n",
        "\n",
        "        xterm1 = [ (1.0-math.exp(-tt))/tt for tt in t_to_tau1]\n",
        "        xterm2 = [ (1.0-math.exp(-tt))/tt-math.exp(-tt) for tt in t_to_tau1]\n",
        "        xterm3 = [ (1.0-math.exp(-tt))/tt-math.exp(-tt) for tt in t_to_tau2]\n",
        "\n",
        "        x = np.array([xterm1, xterm2, xterm3]).T\n",
        "        x = sm.add_constant(x)\n",
        "        wt=np.append(t_seq[0],np.diff(t_seq))\n",
        "        #Use the weighted OLS with the weight proportional to the tenor between data points\n",
        "        #This intends to give equal wt to the full yield curve rather than overweight the portion with a lot of samples        \n",
        "        res = sm.WLS(zr_seq, x, wt).fit()\n",
        "        return (res.params, res.rsquared)\n",
        "         \n",
        "    def estNSParam(self, t_seq, zr_seq):\n",
        "        #for yield curve estimation the search space in time is not likely to be outside front part of the curve\n",
        "        tau_univ = [0.1, 0.15, 0.2, 0.3, 0.5, 0.75, 1, 1.5, 2, 3, 5, 7.5, 10]                \n",
        "        rsq_univ = [ self.fitNSModel(tau, t_seq, zr_seq)[1] for tau in tau_univ]\n",
        "        opt_tau = tau_univ[np.argmax(rsq_univ)]\n",
        "        opt_param, opt_rsqr = self.fitNSModel(opt_tau, t_seq, zr_seq)\n",
        "        return (opt_param, opt_tau, opt_rsqr)\n",
        "    \n",
        "    def estNSSParam(self, t_seq, zr_seq):\n",
        "        #for yield curve estimation the search space in time is not likely to be outside  front part of the curve\n",
        "        tau_univ = [0.1, 0.15, 0.2, 0.3, 0.5, 0.75, 1, 1.5, 2, 3, 5, 7.5, 10]\n",
        "        nTau = len(tau_univ)\n",
        "        rsq_univ = np.array([ self.fitNSSModel(tau0, tau1, t_seq, zr_seq)[1] for tau0 in tau_univ for tau1 in tau_univ])\n",
        "        rsq_univ = rsq_univ.reshape((nTau,nTau))    \n",
        "        maxidx = np.argmax(rsq_univ)\n",
        "        opt_tau0, opt_tau1 = tau_univ[maxidx // nTau], tau_univ[maxidx % nTau]\n",
        "        opt_param, opt_rsqr = self.fitNSSModel(opt_tau0, opt_tau1, t_seq, zr_seq)\n",
        "        return (opt_param, opt_tau0, opt_tau1, opt_rsqr)    \n",
        "\n",
        "    def estimateParam(self, t_seq, zr_seq):\n",
        "        ''' Estimate model parameters by grid search\n",
        "        t_seq: pandas series, time in year\n",
        "        zr_seq: pandas series, spot rate \n",
        "        '''        \n",
        "        if self.useNSS:\n",
        "            param, tau0, tau1, rsqr = self.estNSSParam(t_seq, zr_seq)\n",
        "            self.beta0, self.beta1, self.beta2, self.beta3=param\n",
        "            self.tau0, self.tau1, self.rsqr = tau0, tau1, rsqr\n",
        "        else:\n",
        "            param, tau, rsqr = self.estNSParam(t_seq, zr_seq)\n",
        "            self.beta0, self.beta1, self.beta2=param\n",
        "            self.tau0, self.rsqr = tau, rsqr\n",
        "            self.tau1, self.beta3 = float('nan'), float('nan')\n",
        "        self.HasEstParam=True\n",
        "        \n",
        "    def getSpot(self, t_seq):\n",
        "        ''' Return the spot rate based upon the estimated parameters\n",
        "        t_seq: pandas series, time in year\n",
        "        ''' \n",
        "        if self.HasEstParam == False:\n",
        "            raise Exception('Parameters are not available')\n",
        "        if self.useNSS:\n",
        "            t_to_tau1 = [ t/self.tau0  for t in t_seq]\n",
        "            t_to_tau2 = [ t/self.tau1  for t in t_seq]\n",
        "            xterm1 = [ (1.0-math.exp(-tt))/tt for tt in t_to_tau1]\n",
        "            xterm2 = [ (1.0-math.exp(-tt))/tt-math.exp(-tt) for tt in t_to_tau1]\n",
        "            xterm3 = [ (1.0-math.exp(-tt))/tt-math.exp(-tt) for tt in t_to_tau2]\n",
        "            param = [self.beta0, self.beta1, self.beta2, self.beta3]\n",
        "            x = np.array([xterm1, xterm2, xterm3]).T\n",
        "            x = sm.add_constant(x)\n",
        "        else:\n",
        "            t_to_tau = [ t/self.tau0  for t in t_seq]\n",
        "            xterm1 = [ (1.0-math.exp(-tt))/tt for tt in t_to_tau]\n",
        "            xterm2 = [ (1.0-math.exp(-tt))/tt-math.exp(-tt) for tt in t_to_tau]\n",
        "            param = [self.beta0, self.beta1, self.beta2]\n",
        "            x = np.array([xterm1, xterm2]).T\n",
        "            x = sm.add_constant(x)\n",
        "        return x.dot(param)\n",
        "        \n",
        "\n",
        "    def getFwdRate(self, t_seq):\n",
        "        ''' Return the forward rate based upon the estimated parameters\n",
        "        t_seq: pandas series, time in year\n",
        "        ''' \n",
        "        if self.HasEstParam == False:\n",
        "            raise Exception('Parameters are not available')\n",
        "        if self.useNSS:\n",
        "            t_to_tau1 = [ t/self.tau0  for t in t_seq]\n",
        "            t_to_tau2 = [ t/self.tau1  for t in t_seq]\n",
        "            xterm1 = [ math.exp(-tt) for tt in t_to_tau1]\n",
        "            xterm2 = [ tt*math.exp(-tt) for tt in t_to_tau1]\n",
        "            xterm3 = [ tt*math.exp(-tt) for tt in t_to_tau2]\n",
        "            param = [self.beta0, self.beta1, self.beta2, self.beta3]\n",
        "            x = np.array([xterm1, xterm2, xterm3]).T\n",
        "            x = sm.add_constant(x)\n",
        "        else:\n",
        "            t_to_tau = [ t/self.tau0  for t in t_seq]\n",
        "            xterm1 = [ math.exp(-tt) for tt in t_to_tau]\n",
        "            xterm2 = [ tt*math.exp(-tt) for tt in t_to_tau]\n",
        "            param = [self.beta0, self.beta1, self.beta2]\n",
        "            x = np.array([xterm1, xterm2]).T\n",
        "            x = sm.add_constant(x)\n",
        "        return x.dot(param)        \n",
        "\n",
        "\n",
        "import pandas as pd\n",
        "import matplotlib.pyplot as plt\n",
        "\n",
        "def main():\n",
        "    colHdr = ['Tenor','Yield Curve (UKT)']\n",
        "    zrdata = [[],[],[]]\n",
        "\n",
        "    data=pd.DataFrame(zrdata, columns=colHdr)\n",
        "    tIdxName, rateColName = 'Tenor', 'Yield Curve (UKT)'\n",
        "    tenor, y = data[tIdxName], data[rateColName]\n",
        "\n",
        "    nsm = NSCurveFamily(False)\n",
        "    nsm.estimateParam(tenor, y)\n",
        "\n",
        "    print('Best fit param: (RSqr=%.3f)' % nsm.rsqr)\n",
        "    print('tau=%.2f intercept=%.3f beta1=%.3f beta2=%.3f' % (nsm.tau0, nsm.beta0, nsm.beta1, nsm.beta2) )\n",
        "\n",
        "    plt.figure(figsize=(12,5))\n",
        "    plt.subplot(121)\n",
        "    plt.plot(tenor, nsm.getSpot(tenor), 'o--', label='NS Model')\n",
        "    plt.plot(tenor, y, 'o-', label='Input Data')\n",
        "    plt.title('Data fit to NS Model')\n",
        "    plt.xlabel('t(Yr)')\n",
        "    plt.ylabel('Spot Rate (%)')\n",
        "    plt.legend()\n",
        "    plt.subplot(122)\n",
        "    plt.plot(tenor, nsm.getFwdRate(tenor), 'o-', label='NS Model')\n",
        "    plt.title('Forward rate from NS Model')\n",
        "    plt.xlabel('t(Yr)')\n",
        "    plt.ylabel('forward rate(%)')\n",
        "    plt.show()\n",
        "\n",
        "    nssm = NSCurveFamily(True)\n",
        "    nssm.estimateParam(tenor, y)\n",
        "\n",
        "    print('Best fit param: (RSqr=%.3f)' % nssm.rsqr)\n",
        "    print('tau1=%.2f tau2=%.2f intercept=%.3f beta1=%.3f beta2=%.3f beta3=%.3f' % (nssm.tau0, nssm.tau1, nssm.beta0, nssm.beta1, nssm.beta2, nssm.beta3) )\n",
        "\n",
        "    plt.figure(figsize=(12,5))\n",
        "    plt.subplot(121)\n",
        "    plt.plot(tenor, nssm.getSpot(tenor), 'o--', label='NSS Model')\n",
        "    plt.plot(tenor, y, 'o-', label='Input Data')\n",
        "    plt.title('Data fit to NSS Model')\n",
        "    plt.xlabel('t(Yr)')\n",
        "    plt.ylabel('Spot Rate (%)')\n",
        "    plt.legend()\n",
        "    plt.subplot(122)\n",
        "    plt.plot(tenor, nssm.getFwdRate(tenor), 'o-', label='NSS Model')\n",
        "    plt.title('Forward rate from NSS Model')\n",
        "    plt.xlabel('t(Yr)')\n",
        "    plt.ylabel('forward rate(%)')\n",
        "    plt.show()\n",
        "\n",
        "\n",
        "if __name__ == \"__main__\":\n",
        "    main()"
      ],
      "execution_count": 2,
      "outputs": [
        {
          "output_type": "error",
          "ename": "ValueError",
          "evalue": "ignored",
          "traceback": [
            "\u001b[0;31m---------------------------------------------------------------------------\u001b[0m",
            "\u001b[0;31mAssertionError\u001b[0m                            Traceback (most recent call last)",
            "\u001b[0;32m/usr/local/lib/python3.7/dist-packages/pandas/core/internals/construction.py\u001b[0m in \u001b[0;36m_list_to_arrays\u001b[0;34m(data, columns, coerce_float, dtype)\u001b[0m\n\u001b[1;32m    563\u001b[0m     \u001b[0;32mtry\u001b[0m\u001b[0;34m:\u001b[0m\u001b[0;34m\u001b[0m\u001b[0;34m\u001b[0m\u001b[0m\n\u001b[0;32m--> 564\u001b[0;31m         \u001b[0mcolumns\u001b[0m \u001b[0;34m=\u001b[0m \u001b[0m_validate_or_indexify_columns\u001b[0m\u001b[0;34m(\u001b[0m\u001b[0mcontent\u001b[0m\u001b[0;34m,\u001b[0m \u001b[0mcolumns\u001b[0m\u001b[0;34m)\u001b[0m\u001b[0;34m\u001b[0m\u001b[0;34m\u001b[0m\u001b[0m\n\u001b[0m\u001b[1;32m    565\u001b[0m         \u001b[0mresult\u001b[0m \u001b[0;34m=\u001b[0m \u001b[0m_convert_object_array\u001b[0m\u001b[0;34m(\u001b[0m\u001b[0mcontent\u001b[0m\u001b[0;34m,\u001b[0m \u001b[0mdtype\u001b[0m\u001b[0;34m=\u001b[0m\u001b[0mdtype\u001b[0m\u001b[0;34m,\u001b[0m \u001b[0mcoerce_float\u001b[0m\u001b[0;34m=\u001b[0m\u001b[0mcoerce_float\u001b[0m\u001b[0;34m)\u001b[0m\u001b[0;34m\u001b[0m\u001b[0;34m\u001b[0m\u001b[0m\n",
            "\u001b[0;32m/usr/local/lib/python3.7/dist-packages/pandas/core/internals/construction.py\u001b[0m in \u001b[0;36m_validate_or_indexify_columns\u001b[0;34m(content, columns)\u001b[0m\n\u001b[1;32m    688\u001b[0m             raise AssertionError(\n\u001b[0;32m--> 689\u001b[0;31m                 \u001b[0;34mf\"{len(columns)} columns passed, passed data had \"\u001b[0m\u001b[0;34m\u001b[0m\u001b[0;34m\u001b[0m\u001b[0m\n\u001b[0m\u001b[1;32m    690\u001b[0m                 \u001b[0;34mf\"{len(content)} columns\"\u001b[0m\u001b[0;34m\u001b[0m\u001b[0;34m\u001b[0m\u001b[0m\n",
            "\u001b[0;31mAssertionError\u001b[0m: 2 columns passed, passed data had 0 columns",
            "\nThe above exception was the direct cause of the following exception:\n",
            "\u001b[0;31mValueError\u001b[0m                                Traceback (most recent call last)",
            "\u001b[0;32m<ipython-input-2-19b68a6c217e>\u001b[0m in \u001b[0;36m<module>\u001b[0;34m()\u001b[0m\n\u001b[1;32m    182\u001b[0m \u001b[0;34m\u001b[0m\u001b[0m\n\u001b[1;32m    183\u001b[0m \u001b[0;32mif\u001b[0m \u001b[0m__name__\u001b[0m \u001b[0;34m==\u001b[0m \u001b[0;34m\"__main__\"\u001b[0m\u001b[0;34m:\u001b[0m\u001b[0;34m\u001b[0m\u001b[0;34m\u001b[0m\u001b[0m\n\u001b[0;32m--> 184\u001b[0;31m     \u001b[0mmain\u001b[0m\u001b[0;34m(\u001b[0m\u001b[0;34m)\u001b[0m\u001b[0;34m\u001b[0m\u001b[0;34m\u001b[0m\u001b[0m\n\u001b[0m",
            "\u001b[0;32m<ipython-input-2-19b68a6c217e>\u001b[0m in \u001b[0;36mmain\u001b[0;34m()\u001b[0m\n\u001b[1;32m    134\u001b[0m     \u001b[0mzrdata\u001b[0m \u001b[0;34m=\u001b[0m \u001b[0;34m[\u001b[0m\u001b[0;34m[\u001b[0m\u001b[0;34m]\u001b[0m\u001b[0;34m,\u001b[0m\u001b[0;34m[\u001b[0m\u001b[0;34m]\u001b[0m\u001b[0;34m,\u001b[0m\u001b[0;34m[\u001b[0m\u001b[0;34m]\u001b[0m\u001b[0;34m]\u001b[0m\u001b[0;34m\u001b[0m\u001b[0;34m\u001b[0m\u001b[0m\n\u001b[1;32m    135\u001b[0m \u001b[0;34m\u001b[0m\u001b[0m\n\u001b[0;32m--> 136\u001b[0;31m     \u001b[0mdata\u001b[0m\u001b[0;34m=\u001b[0m\u001b[0mpd\u001b[0m\u001b[0;34m.\u001b[0m\u001b[0mDataFrame\u001b[0m\u001b[0;34m(\u001b[0m\u001b[0mzrdata\u001b[0m\u001b[0;34m,\u001b[0m \u001b[0mcolumns\u001b[0m\u001b[0;34m=\u001b[0m\u001b[0mcolHdr\u001b[0m\u001b[0;34m)\u001b[0m\u001b[0;34m\u001b[0m\u001b[0;34m\u001b[0m\u001b[0m\n\u001b[0m\u001b[1;32m    137\u001b[0m     \u001b[0mtIdxName\u001b[0m\u001b[0;34m,\u001b[0m \u001b[0mrateColName\u001b[0m \u001b[0;34m=\u001b[0m \u001b[0;34m'Tenor'\u001b[0m\u001b[0;34m,\u001b[0m \u001b[0;34m'Yield Curve (UKT)'\u001b[0m\u001b[0;34m\u001b[0m\u001b[0;34m\u001b[0m\u001b[0m\n\u001b[1;32m    138\u001b[0m     \u001b[0mtenor\u001b[0m\u001b[0;34m,\u001b[0m \u001b[0my\u001b[0m \u001b[0;34m=\u001b[0m \u001b[0mdata\u001b[0m\u001b[0;34m[\u001b[0m\u001b[0mtIdxName\u001b[0m\u001b[0;34m]\u001b[0m\u001b[0;34m,\u001b[0m \u001b[0mdata\u001b[0m\u001b[0;34m[\u001b[0m\u001b[0mrateColName\u001b[0m\u001b[0;34m]\u001b[0m\u001b[0;34m\u001b[0m\u001b[0;34m\u001b[0m\u001b[0m\n",
            "\u001b[0;32m/usr/local/lib/python3.7/dist-packages/pandas/core/frame.py\u001b[0m in \u001b[0;36m__init__\u001b[0;34m(self, data, index, columns, dtype, copy)\u001b[0m\n\u001b[1;32m    507\u001b[0m                     \u001b[0;32mif\u001b[0m \u001b[0mis_named_tuple\u001b[0m\u001b[0;34m(\u001b[0m\u001b[0mdata\u001b[0m\u001b[0;34m[\u001b[0m\u001b[0;36m0\u001b[0m\u001b[0;34m]\u001b[0m\u001b[0;34m)\u001b[0m \u001b[0;32mand\u001b[0m \u001b[0mcolumns\u001b[0m \u001b[0;32mis\u001b[0m \u001b[0;32mNone\u001b[0m\u001b[0;34m:\u001b[0m\u001b[0;34m\u001b[0m\u001b[0;34m\u001b[0m\u001b[0m\n\u001b[1;32m    508\u001b[0m                         \u001b[0mcolumns\u001b[0m \u001b[0;34m=\u001b[0m \u001b[0mdata\u001b[0m\u001b[0;34m[\u001b[0m\u001b[0;36m0\u001b[0m\u001b[0;34m]\u001b[0m\u001b[0;34m.\u001b[0m\u001b[0m_fields\u001b[0m\u001b[0;34m\u001b[0m\u001b[0;34m\u001b[0m\u001b[0m\n\u001b[0;32m--> 509\u001b[0;31m                     \u001b[0marrays\u001b[0m\u001b[0;34m,\u001b[0m \u001b[0mcolumns\u001b[0m \u001b[0;34m=\u001b[0m \u001b[0mto_arrays\u001b[0m\u001b[0;34m(\u001b[0m\u001b[0mdata\u001b[0m\u001b[0;34m,\u001b[0m \u001b[0mcolumns\u001b[0m\u001b[0;34m,\u001b[0m \u001b[0mdtype\u001b[0m\u001b[0;34m=\u001b[0m\u001b[0mdtype\u001b[0m\u001b[0;34m)\u001b[0m\u001b[0;34m\u001b[0m\u001b[0;34m\u001b[0m\u001b[0m\n\u001b[0m\u001b[1;32m    510\u001b[0m                     \u001b[0mcolumns\u001b[0m \u001b[0;34m=\u001b[0m \u001b[0mensure_index\u001b[0m\u001b[0;34m(\u001b[0m\u001b[0mcolumns\u001b[0m\u001b[0;34m)\u001b[0m\u001b[0;34m\u001b[0m\u001b[0;34m\u001b[0m\u001b[0m\n\u001b[1;32m    511\u001b[0m \u001b[0;34m\u001b[0m\u001b[0m\n",
            "\u001b[0;32m/usr/local/lib/python3.7/dist-packages/pandas/core/internals/construction.py\u001b[0m in \u001b[0;36mto_arrays\u001b[0;34m(data, columns, coerce_float, dtype)\u001b[0m\n\u001b[1;32m    522\u001b[0m         \u001b[0;32mreturn\u001b[0m \u001b[0;34m[\u001b[0m\u001b[0;34m]\u001b[0m\u001b[0;34m,\u001b[0m \u001b[0;34m[\u001b[0m\u001b[0;34m]\u001b[0m  \u001b[0;31m# columns if columns is not None else []\u001b[0m\u001b[0;34m\u001b[0m\u001b[0;34m\u001b[0m\u001b[0m\n\u001b[1;32m    523\u001b[0m     \u001b[0;32mif\u001b[0m \u001b[0misinstance\u001b[0m\u001b[0;34m(\u001b[0m\u001b[0mdata\u001b[0m\u001b[0;34m[\u001b[0m\u001b[0;36m0\u001b[0m\u001b[0;34m]\u001b[0m\u001b[0;34m,\u001b[0m \u001b[0;34m(\u001b[0m\u001b[0mlist\u001b[0m\u001b[0;34m,\u001b[0m \u001b[0mtuple\u001b[0m\u001b[0;34m)\u001b[0m\u001b[0;34m)\u001b[0m\u001b[0;34m:\u001b[0m\u001b[0;34m\u001b[0m\u001b[0;34m\u001b[0m\u001b[0m\n\u001b[0;32m--> 524\u001b[0;31m         \u001b[0;32mreturn\u001b[0m \u001b[0m_list_to_arrays\u001b[0m\u001b[0;34m(\u001b[0m\u001b[0mdata\u001b[0m\u001b[0;34m,\u001b[0m \u001b[0mcolumns\u001b[0m\u001b[0;34m,\u001b[0m \u001b[0mcoerce_float\u001b[0m\u001b[0;34m=\u001b[0m\u001b[0mcoerce_float\u001b[0m\u001b[0;34m,\u001b[0m \u001b[0mdtype\u001b[0m\u001b[0;34m=\u001b[0m\u001b[0mdtype\u001b[0m\u001b[0;34m)\u001b[0m\u001b[0;34m\u001b[0m\u001b[0;34m\u001b[0m\u001b[0m\n\u001b[0m\u001b[1;32m    525\u001b[0m     \u001b[0;32melif\u001b[0m \u001b[0misinstance\u001b[0m\u001b[0;34m(\u001b[0m\u001b[0mdata\u001b[0m\u001b[0;34m[\u001b[0m\u001b[0;36m0\u001b[0m\u001b[0;34m]\u001b[0m\u001b[0;34m,\u001b[0m \u001b[0mabc\u001b[0m\u001b[0;34m.\u001b[0m\u001b[0mMapping\u001b[0m\u001b[0;34m)\u001b[0m\u001b[0;34m:\u001b[0m\u001b[0;34m\u001b[0m\u001b[0;34m\u001b[0m\u001b[0m\n\u001b[1;32m    526\u001b[0m         return _list_of_dict_to_arrays(\n",
            "\u001b[0;32m/usr/local/lib/python3.7/dist-packages/pandas/core/internals/construction.py\u001b[0m in \u001b[0;36m_list_to_arrays\u001b[0;34m(data, columns, coerce_float, dtype)\u001b[0m\n\u001b[1;32m    565\u001b[0m         \u001b[0mresult\u001b[0m \u001b[0;34m=\u001b[0m \u001b[0m_convert_object_array\u001b[0m\u001b[0;34m(\u001b[0m\u001b[0mcontent\u001b[0m\u001b[0;34m,\u001b[0m \u001b[0mdtype\u001b[0m\u001b[0;34m=\u001b[0m\u001b[0mdtype\u001b[0m\u001b[0;34m,\u001b[0m \u001b[0mcoerce_float\u001b[0m\u001b[0;34m=\u001b[0m\u001b[0mcoerce_float\u001b[0m\u001b[0;34m)\u001b[0m\u001b[0;34m\u001b[0m\u001b[0;34m\u001b[0m\u001b[0m\n\u001b[1;32m    566\u001b[0m     \u001b[0;32mexcept\u001b[0m \u001b[0mAssertionError\u001b[0m \u001b[0;32mas\u001b[0m \u001b[0me\u001b[0m\u001b[0;34m:\u001b[0m\u001b[0;34m\u001b[0m\u001b[0;34m\u001b[0m\u001b[0m\n\u001b[0;32m--> 567\u001b[0;31m         \u001b[0;32mraise\u001b[0m \u001b[0mValueError\u001b[0m\u001b[0;34m(\u001b[0m\u001b[0me\u001b[0m\u001b[0;34m)\u001b[0m \u001b[0;32mfrom\u001b[0m \u001b[0me\u001b[0m\u001b[0;34m\u001b[0m\u001b[0;34m\u001b[0m\u001b[0m\n\u001b[0m\u001b[1;32m    568\u001b[0m     \u001b[0;32mreturn\u001b[0m \u001b[0mresult\u001b[0m\u001b[0;34m,\u001b[0m \u001b[0mcolumns\u001b[0m\u001b[0;34m\u001b[0m\u001b[0;34m\u001b[0m\u001b[0m\n\u001b[1;32m    569\u001b[0m \u001b[0;34m\u001b[0m\u001b[0m\n",
            "\u001b[0;31mValueError\u001b[0m: 2 columns passed, passed data had 0 columns"
          ]
        }
      ]
    },
    {
      "cell_type": "code",
      "metadata": {
        "id": "p9kZhZ0aKNNr"
      },
      "source": [
        ""
      ],
      "execution_count": null,
      "outputs": []
    }
  ]
}